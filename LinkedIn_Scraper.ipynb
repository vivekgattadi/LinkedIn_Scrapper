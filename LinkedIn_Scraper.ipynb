{
 "cells": [
  {
   "cell_type": "code",
   "execution_count": 4,
   "metadata": {},
   "outputs": [],
   "source": [
    "from bs4 import BeautifulSoup\n",
    "from selenium import webdriver\n",
    "import csv"
   ]
  },
  {
   "cell_type": "code",
   "execution_count": 6,
   "metadata": {},
   "outputs": [],
   "source": [
    "chrome_path = r'C:\\Users\\Vivek\\Desktop\\Ph\\chromedriver.exe'\n",
    "driver = webdriver.Chrome(chrome_path)\n",
    "URL = 'https://www.linkedin.com/uas/login?session_redirect=https%3A%2F%2Fwww%2Elinkedin%2Ecom%2Fsearch%2Fresults%2Fcompanies%2F%3Fkeywords%3DPharma%26origin%3DSWITCH_SEARCH_VERTICAL&fromSignIn=true&trk=cold_join_sign_in'\n",
    "driver.get(URL)"
   ]
  },
  {
   "cell_type": "code",
   "execution_count": 7,
   "metadata": {},
   "outputs": [],
   "source": [
    "username = driver.find_element_by_id(\"username\")\n",
    "username.send_keys(\"Enter your LinkedIn username here\")\n",
    "password = driver.find_element_by_id(\"password\")\n",
    "password.send_keys(\"Enter your password here\")"
   ]
  },
  {
   "cell_type": "code",
   "execution_count": 8,
   "metadata": {},
   "outputs": [],
   "source": [
    "login_button = driver.find_element_by_class_name(\"login__form_action_container \")\n",
    "login_button.click()"
   ]
  },
  {
   "cell_type": "code",
   "execution_count": 9,
   "metadata": {},
   "outputs": [],
   "source": [
    "URL = 'https://www.linkedin.com/search/results/companies/?companyHqGeo=%5B%22102713980%22%5D&keywords=electronics%20store&origin=FACETED_SEARCH'\n",
    "driver.get(URL)"
   ]
  },
  {
   "cell_type": "code",
   "execution_count": 10,
   "metadata": {},
   "outputs": [
    {
     "data": {
      "text/plain": [
       "[[<selenium.webdriver.remote.webelement.WebElement (session=\"312a58a8aae630ece0162c397c20862a\", element=\"2ea09c6c-a4f5-44ca-8845-a9c9af73d0d6\")>,\n",
       "  <selenium.webdriver.remote.webelement.WebElement (session=\"312a58a8aae630ece0162c397c20862a\", element=\"30e3c6ec-a897-485c-a14d-7b6449592fdc\")>,\n",
       "  <selenium.webdriver.remote.webelement.WebElement (session=\"312a58a8aae630ece0162c397c20862a\", element=\"2cd727c5-5420-4b62-96ff-92f501cea02a\")>,\n",
       "  <selenium.webdriver.remote.webelement.WebElement (session=\"312a58a8aae630ece0162c397c20862a\", element=\"e97090da-9404-4623-becb-4996fbddfa77\")>,\n",
       "  <selenium.webdriver.remote.webelement.WebElement (session=\"312a58a8aae630ece0162c397c20862a\", element=\"343a07eb-e9c6-4ea8-8a83-ca73b133d080\")>,\n",
       "  <selenium.webdriver.remote.webelement.WebElement (session=\"312a58a8aae630ece0162c397c20862a\", element=\"433aca79-cd60-4211-ad87-3bd452ad420b\")>,\n",
       "  <selenium.webdriver.remote.webelement.WebElement (session=\"312a58a8aae630ece0162c397c20862a\", element=\"9d9bb42e-49c7-46ef-9198-0b528a349f94\")>,\n",
       "  <selenium.webdriver.remote.webelement.WebElement (session=\"312a58a8aae630ece0162c397c20862a\", element=\"3190af45-eba3-460f-8a3c-bc1e0b3d74bc\")>,\n",
       "  <selenium.webdriver.remote.webelement.WebElement (session=\"312a58a8aae630ece0162c397c20862a\", element=\"393967e0-8bb9-40f1-9d5c-a6fbc393e34b\")>,\n",
       "  <selenium.webdriver.remote.webelement.WebElement (session=\"312a58a8aae630ece0162c397c20862a\", element=\"6901a7ae-36ee-4275-819e-eac5d2f7f9b2\")>]]"
      ]
     },
     "execution_count": 10,
     "metadata": {},
     "output_type": "execute_result"
    }
   ],
   "source": [
    "d= []\n",
    "name = driver.find_elements_by_class_name(\"reusable-search__result-container \")\n",
    "d.append(name)\n",
    "d"
   ]
  },
  {
   "cell_type": "code",
   "execution_count": 11,
   "metadata": {},
   "outputs": [
    {
     "name": "stdout",
     "output_type": "stream",
     "text": [
      "10 ['https://www.linkedin.com/company/electronics-store/', 'https://www.linkedin.com/company/pioneer-electronics-store/', 'https://www.linkedin.com/company/techtonicsindia/', 'https://www.linkedin.com/company/anilelectronicsstore/', 'https://www.linkedin.com/company/techtonicsin/', 'https://www.linkedin.com/company/anil-electronics-store/', 'https://www.linkedin.com/company/indian-electronics-store/', 'https://www.linkedin.com/company/arthi-electronics-store/', 'https://www.linkedin.com/company/tekari-electronics-store/', 'https://www.linkedin.com/company/vinod-electronics-store/']\n"
     ]
    }
   ],
   "source": [
    "c = []\n",
    "for item in name:\n",
    "    c.append(item.find_element_by_class_name('app-aware-link').get_attribute('href'))\n",
    "print(len(c),c)   "
   ]
  },
  {
   "cell_type": "code",
   "execution_count": 12,
   "metadata": {},
   "outputs": [
    {
     "name": "stdout",
     "output_type": "stream",
     "text": [
      "22 ['https://www.linkedin.com/company/electronics-store/', 'https://www.linkedin.com/company/pioneer-electronics-store/', 'https://www.linkedin.com/company/techtonicsindia/', 'https://www.linkedin.com/company/anilelectronicsstore/', 'https://www.linkedin.com/company/techtonicsin/', 'https://www.linkedin.com/company/anil-electronics-store/', 'https://www.linkedin.com/company/indian-electronics-store/', 'https://www.linkedin.com/company/arthi-electronics-store/', 'https://www.linkedin.com/company/tekari-electronics-store/', 'https://www.linkedin.com/company/vinod-electronics-store/', 'https://www.linkedin.com/company/suri-electronics---electronics-store-in-mohali/', 'https://www.linkedin.com/company/datta-gagangiri-electricals-&-electronics-store/', 'https://www.linkedin.com/company/electronics-brand-new-store/', 'https://www.linkedin.com/company/store-an-electronics-world/', 'https://www.linkedin.com/company/mansa-electronics-&-mobile-store/', 'https://www.linkedin.com/company/anil-kirana-store-rakesh-electronics/', 'https://www.linkedin.com/company/prince-electronics-cycle-store/', 'https://www.linkedin.com/company/capital-electronics-&-hardware-store/', 'https://www.linkedin.com/company/micro-electronics-institute-&-police-store/', 'https://www.linkedin.com/company/sudershan-electronics-dell-exclusive-store/', 'https://www.linkedin.com/company/rb-zone-electronics-super-store/', 'https://www.linkedin.com/company/vishal-super-store-&-kaushal-electronics/']\n"
     ]
    }
   ],
   "source": [
    "for i in range(2):\n",
    "\n",
    "    x = str(i+2)\n",
    "    link = URL + '&page=' + x\n",
    "    driver.get(link)\n",
    "    for j in range(100000000):\n",
    "        continue\n",
    "    name = driver.find_elements_by_class_name(\"reusable-search__result-container \")\n",
    "    d.append(name)\n",
    "    \n",
    "    for item in name:\n",
    "        c.append(item.find_element_by_class_name('app-aware-link').get_attribute('href'))\n",
    "print(len(c),c)    "
   ]
  },
  {
   "cell_type": "code",
   "execution_count": 26,
   "metadata": {},
   "outputs": [
    {
     "name": "stdout",
     "output_type": "stream",
     "text": [
      "59   International Hospitals Recruitment Inc.   http://www.ihrcanada.com/   https://www.linkedin.com/company/international-hospitals-recruitment-inc./   Recruitng Medical Staff from USA, Canada, Western Europe, Australia & New Zeland to Hospitals in the Arabain Gulf region   Hospital & Health Care Toronto, Ontario 18,112 followers   See all 6 employees on LinkedIn   Follow\n",
      "59   Surrey Hospitals Foundation   https://www.surreyhospitalfoundation.com/   https://www.linkedin.com/company/surreyhospitalsfoundation/   We are Surrey Hospitals Foundation, Canada's unstoppable force for life-changing health care.   Hospital & Health Care Surrey, British Columbia 514 followers   See all 12 employees on LinkedIn   Follow\n",
      "59   Canadian Hospitals Network International, Inc.   NDA   https://www.linkedin.com/company/canadian-hospitals-network-international-inc-/   Health, Wellness & Fitness Saskatchewan   See 1 employee on LinkedIn   This listing was automatically created by LinkedIn. This listing is not currently maintained by, endorsed by or affiliated with Canadian Hospitals Network International, Inc.. Learn more   More\n",
      "59   MNM Medical Recruiters Canada   http://www.mnmmedicalrecruiters.com/   https://www.linkedin.com/company/mnm-medical-recruiters-canada/   Hospital & Health Care Stratford, Ontario 3,271 followers   See all 4 employees on LinkedIn   Follow   Visit website\n",
      "59   The Canadian Council for Public-Private Partnerships   http://www.pppcouncil.ca/   https://www.linkedin.com/company/the-canadian-council-for-public-private-partnerships/   Non-profit Organization Management Toronto, Ontario 2,725 followers   See all 9 employees on LinkedIn   Follow   Visit website\n"
     ]
    }
   ],
   "source": [
    "for item in c[:5]:\n",
    "    driver.get(item)\n",
    "    try:\n",
    "        y = driver.find_element_by_class_name('mb3').text.split('\\n')\n",
    "    except Exception as e:\n",
    "        y = 'NDA'\n",
    "    try:\n",
    "        z = driver.find_element_by_class_name(\"org-top-card-primary-actions__inner\")\n",
    "        x = z.find_element_by_css_selector('a').get_attribute('href')\n",
    "    except Exception as e:\n",
    "        x = 'NDA'\n",
    "    try:\n",
    "        print(i, ' ', y[0], ' ', x,' ', item,' ', y[1], ' ', y[2], ' ', y[3], ' ',y[4])\n",
    "    except Exception as e:\n",
    "        continue"
   ]
  },
  {
   "cell_type": "code",
   "execution_count": 13,
   "metadata": {},
   "outputs": [],
   "source": [
    "#csv_file = open('Cold_Chain_Logistics.csv', 'w', encoding='utf-8')\n",
    "#csv_writer = csv.writer(csv_file)\n",
    "#csv_writer.writerow(['S.No.', 'Name', 'Website','LinkedIn', 'A', 'B', 'C', 'D'])\n",
    "\n",
    "data = []\n",
    "i = 1\n",
    "for item in c:\n",
    "    driver.get(item)\n",
    "    try:\n",
    "        y = driver.find_element_by_class_name('mb3').text.split('\\n')\n",
    "    except Exception as e:\n",
    "        y = 'NDA'\n",
    "    try:\n",
    "        z = driver.find_element_by_class_name(\"org-top-card-primary-actions__inner\")\n",
    "        x = z.find_element_by_css_selector('a').get_attribute('href')\n",
    "    except Exception as e:\n",
    "        x = 'NDA'\n",
    "#    try:\n",
    "#        print(i, ' ', y[0], ' ', x,' ', item,' ', y[1], ' ', y[2], ' ', y[3], ' ',y[4])\n",
    "#    except Exception as e:\n",
    "#        continue\n",
    "    try:\n",
    "        data.append([i, y[0], x, item, y[1], y[2], y[3], y[4]])\n",
    "        i = i+1\n",
    "    except Exception as e:\n",
    "        continue\n",
    "#    csv_writer.writerow([i, y[0], x, item, y[1], y[2], y[3], y[4]])\n",
    "    "
   ]
  },
  {
   "cell_type": "code",
   "execution_count": 14,
   "metadata": {},
   "outputs": [
    {
     "data": {
      "text/plain": [
       "[[1,\n",
       "  'Electronics Store',\n",
       "  'NDA',\n",
       "  'https://www.linkedin.com/company/electronics-store/',\n",
       "  'Electrical & Electronic Manufacturing Bangalore, Karnataka',\n",
       "  'See all 23 employees on LinkedIn',\n",
       "  'This listing was automatically created by LinkedIn. This listing is not currently maintained by, endorsed by or affiliated with Electronics Store. Learn more',\n",
       "  'More'],\n",
       " [2,\n",
       "  'Pioneer Electronics Store',\n",
       "  'http://www.pioneerelectronicsstore.com/',\n",
       "  'https://www.linkedin.com/company/pioneer-electronics-store/',\n",
       "  'Electrical & Electronic Manufacturing Pune, Maharashtra 7 followers',\n",
       "  'Follow',\n",
       "  'Visit website',\n",
       "  'More'],\n",
       " [3,\n",
       "  'Techtonics- Online electronics store',\n",
       "  'https://techtonics.in/',\n",
       "  'https://www.linkedin.com/company/techtonicsindia/',\n",
       "  'Your Partner in Innovations....',\n",
       "  'Electrical & Electronic Manufacturing 1 follower',\n",
       "  'Follow',\n",
       "  'Visit website'],\n",
       " [4,\n",
       "  'Anil Electronics Store',\n",
       "  'http://www.anilelectronicstore.com/',\n",
       "  'https://www.linkedin.com/company/anilelectronicsstore/',\n",
       "  'Making Life Easier!',\n",
       "  'Electrical & Electronic Manufacturing Varanasi, Uttar Pradesh 2 followers',\n",
       "  'See all 2 employees on LinkedIn',\n",
       "  'Follow'],\n",
       " [5,\n",
       "  'Techtonics - Electronics Store',\n",
       "  'https://www.techtonics.in/',\n",
       "  'https://www.linkedin.com/company/techtonicsin/',\n",
       "  'Consumer Electronics 1 follower',\n",
       "  'Follow',\n",
       "  'Visit website',\n",
       "  'More'],\n",
       " [6,\n",
       "  'Anil Electronics Store',\n",
       "  'NDA',\n",
       "  'https://www.linkedin.com/company/anil-electronics-store/',\n",
       "  'Electrical & Electronic Manufacturing Ahmedabad, Gujarat',\n",
       "  'See 1 employee on LinkedIn',\n",
       "  'This listing was automatically created by LinkedIn. This listing is not currently maintained by, endorsed by or affiliated with Anil Electronics Store. Learn more',\n",
       "  'More'],\n",
       " [7,\n",
       "  'Indian Electronics Store',\n",
       "  'NDA',\n",
       "  'https://www.linkedin.com/company/indian-electronics-store/',\n",
       "  'Electrical & Electronic Manufacturing Noida, Uttar Pradesh',\n",
       "  'This listing was automatically created by LinkedIn. This listing is not currently maintained by, endorsed by or affiliated with Indian Electronics Store. Learn more',\n",
       "  'More',\n",
       "  'About'],\n",
       " [8,\n",
       "  'Arthi Electronics Store',\n",
       "  'NDA',\n",
       "  'https://www.linkedin.com/company/arthi-electronics-store/',\n",
       "  'Electrical & Electronic Manufacturing Chennai, Tamil Nadu',\n",
       "  'See 1 employee on LinkedIn',\n",
       "  'This listing was automatically created by LinkedIn. This listing is not currently maintained by, endorsed by or affiliated with Arthi Electronics Store. Learn more',\n",
       "  'More'],\n",
       " [9,\n",
       "  'Tekari Electronics Store',\n",
       "  'NDA',\n",
       "  'https://www.linkedin.com/company/tekari-electronics-store/',\n",
       "  'Consumer Services Gaya, Bihar',\n",
       "  'This listing was automatically created by LinkedIn. This listing is not currently maintained by, endorsed by or affiliated with Tekari Electronics Store. Learn more',\n",
       "  'More',\n",
       "  'About'],\n",
       " [10,\n",
       "  'Vinod Electronics Store',\n",
       "  'NDA',\n",
       "  'https://www.linkedin.com/company/vinod-electronics-store/',\n",
       "  'Retail Chandigarh, Chandigarh',\n",
       "  'This listing was automatically created by LinkedIn. This listing is not currently maintained by, endorsed by or affiliated with Vinod Electronics Store. Learn more',\n",
       "  'More',\n",
       "  'About'],\n",
       " [11,\n",
       "  'Suri Electronics - Electronics Store In Mohali',\n",
       "  'NDA',\n",
       "  'https://www.linkedin.com/company/suri-electronics---electronics-store-in-mohali/',\n",
       "  'Retail Chandigarh',\n",
       "  'This listing was automatically created by LinkedIn. This listing is not currently maintained by, endorsed by or affiliated with Suri Electronics - Electronics Store In Mohali. Learn more',\n",
       "  'More',\n",
       "  'About'],\n",
       " [12,\n",
       "  'Datta Gagangiri Electricals & Electronics Store',\n",
       "  'NDA',\n",
       "  'https://www.linkedin.com/company/datta-gagangiri-electricals-&-electronics-store/',\n",
       "  'Electrical & Electronic Manufacturing Mumbai, Maharashtra',\n",
       "  'This listing was automatically created by LinkedIn. This listing is not currently maintained by, endorsed by or affiliated with Datta Gagangiri Electricals & Electronics Store. Learn more',\n",
       "  'More',\n",
       "  'About'],\n",
       " [13,\n",
       "  'Electronics Brand New Store',\n",
       "  'NDA',\n",
       "  'https://www.linkedin.com/company/electronics-brand-new-store/',\n",
       "  'Retail Mumbai, Maharastra',\n",
       "  'This listing was automatically created by LinkedIn. This listing is not currently maintained by, endorsed by or affiliated with Electronics Brand New Store. Learn more',\n",
       "  'More',\n",
       "  'About'],\n",
       " [14,\n",
       "  'Store An Electronics World',\n",
       "  'NDA',\n",
       "  'https://www.linkedin.com/company/store-an-electronics-world/',\n",
       "  'Retail Satara, Maharashtra',\n",
       "  'This listing was automatically created by LinkedIn. This listing is not currently maintained by, endorsed by or affiliated with Store An Electronics World. Learn more',\n",
       "  'More',\n",
       "  'About'],\n",
       " [15,\n",
       "  'Mansa Electronics & Mobile Store',\n",
       "  'NDA',\n",
       "  'https://www.linkedin.com/company/mansa-electronics-&-mobile-store/',\n",
       "  'Retail chandigarh, Chandigarh',\n",
       "  'See 1 employee on LinkedIn',\n",
       "  'This listing was automatically created by LinkedIn. This listing is not currently maintained by, endorsed by or affiliated with Mansa Electronics & Mobile Store. Learn more',\n",
       "  'More'],\n",
       " [16,\n",
       "  'Anil Kirana Store@Rakesh Electronics',\n",
       "  'NDA',\n",
       "  'https://www.linkedin.com/company/anil-kirana-store-rakesh-electronics/',\n",
       "  'Supermarkets Jaipur, Rajasthan',\n",
       "  'See all 2 employees on LinkedIn',\n",
       "  'This listing was automatically created by LinkedIn. This listing is not currently maintained by, endorsed by or affiliated with Anil Kirana Store@Rakesh Electronics. Learn more',\n",
       "  'More'],\n",
       " [17,\n",
       "  'Prince Electronics Cycle Store',\n",
       "  'NDA',\n",
       "  'https://www.linkedin.com/company/prince-electronics-cycle-store/',\n",
       "  'Electrical & Electronic Manufacturing Delhi, Delhi',\n",
       "  'This listing was automatically created by LinkedIn. This listing is not currently maintained by, endorsed by or affiliated with Prince Electronics Cycle Store. Learn more',\n",
       "  'More',\n",
       "  'About'],\n",
       " [18,\n",
       "  'Capital Electronics & Hardware Store',\n",
       "  'NDA',\n",
       "  'https://www.linkedin.com/company/capital-electronics-&-hardware-store/',\n",
       "  'Electrical & Electronic Manufacturing Delhi, Delhi',\n",
       "  'See 1 employee on LinkedIn',\n",
       "  'This listing was automatically created by LinkedIn. This listing is not currently maintained by, endorsed by or affiliated with Capital Electronics & Hardware Store. Learn more',\n",
       "  'More'],\n",
       " [19,\n",
       "  'MICRO ELECTRONICS INSTITUTE & POLICE STORE',\n",
       "  'NDA',\n",
       "  'https://www.linkedin.com/company/micro-electronics-institute-&-police-store/',\n",
       "  'Information Technology & Services Lakhisarai, Bihar',\n",
       "  'This listing was automatically created by LinkedIn. This listing is not currently maintained by, endorsed by or affiliated with MICRO ELECTRONICS INSTITUTE & POLICE STORE. Learn more',\n",
       "  'More',\n",
       "  'About'],\n",
       " [20,\n",
       "  'Sudershan Electronics Dell exclusive store',\n",
       "  'NDA',\n",
       "  'https://www.linkedin.com/company/sudershan-electronics-dell-exclusive-store/',\n",
       "  'Business Supplies & Equipment Bareilly, Uttar Pradesh',\n",
       "  'This listing was automatically created by LinkedIn. This listing is not currently maintained by, endorsed by or affiliated with Sudershan Electronics Dell exclusive store. Learn more',\n",
       "  'More',\n",
       "  'About'],\n",
       " [21,\n",
       "  'RB ZONE Electronics Super Store',\n",
       "  'NDA',\n",
       "  'https://www.linkedin.com/company/rb-zone-electronics-super-store/',\n",
       "  'Retail Ujjain, Madhya Pradesh',\n",
       "  'This listing was automatically created by LinkedIn. This listing is not currently maintained by, endorsed by or affiliated with RB ZONE Electronics Super Store. Learn more',\n",
       "  'More',\n",
       "  'About'],\n",
       " [22,\n",
       "  'Vishal Super Store & Kaushal Electronics',\n",
       "  'NDA',\n",
       "  'https://www.linkedin.com/company/vishal-super-store-&-kaushal-electronics/',\n",
       "  'Retail Olpad, Gujarat',\n",
       "  'This listing was automatically created by LinkedIn. This listing is not currently maintained by, endorsed by or affiliated with Vishal Super Store & Kaushal Electronics. Learn more',\n",
       "  'More',\n",
       "  'About']]"
      ]
     },
     "execution_count": 14,
     "metadata": {},
     "output_type": "execute_result"
    }
   ],
   "source": [
    "data"
   ]
  },
  {
   "cell_type": "code",
   "execution_count": 16,
   "metadata": {},
   "outputs": [],
   "source": [
    "csv_file = open('Abhishek.csv', 'w', encoding='utf-8')\n",
    "csv_writer = csv.writer(csv_file)\n",
    "csv_writer.writerow(['S.No.', 'Name', 'Website','LinkedIn', 'A', 'B', 'C', 'D'])\n",
    "\n",
    "for i in range(len(data)):\n",
    "    csv_writer.writerow(data[i])"
   ]
  },
  {
   "cell_type": "code",
   "execution_count": null,
   "metadata": {},
   "outputs": [],
   "source": []
  }
 ],
 "metadata": {
  "kernelspec": {
   "display_name": "Python 3",
   "language": "python",
   "name": "python3"
  },
  "language_info": {
   "codemirror_mode": {
    "name": "ipython",
    "version": 3
   },
   "file_extension": ".py",
   "mimetype": "text/x-python",
   "name": "python",
   "nbconvert_exporter": "python",
   "pygments_lexer": "ipython3",
   "version": "3.8.5"
  }
 },
 "nbformat": 4,
 "nbformat_minor": 4
}
