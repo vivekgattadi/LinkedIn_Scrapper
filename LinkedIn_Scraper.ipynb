{
 "cells": [
  {
   "cell_type": "code",
   "execution_count": null,
   "metadata": {},
   "outputs": [],
   "source": [
    "from bs4 import BeautifulSoup\n",
    "from selenium import webdriver\n",
    "import csv"
   ]
  },
  {
   "cell_type": "code",
   "execution_count": null,
   "metadata": {},
   "outputs": [],
   "source": [
    "chrome_path = r'C:\\Users\\Vivek\\Desktop\\Ph\\chromedriver.exe'\n",
    "driver = webdriver.Chrome(chrome_path)\n",
    "URL = 'https://www.linkedin.com/uas/login?session_redirect=https%3A%2F%2Fwww%2Elinkedin%2Ecom%2Fsearch%2Fresults%2Fcompanies%2F%3Fkeywords%3DPharma%26origin%3DSWITCH_SEARCH_VERTICAL&fromSignIn=true&trk=cold_join_sign_in'\n",
    "driver.get(URL)"
   ]
  },
  {
   "cell_type": "code",
   "execution_count": null,
   "metadata": {},
   "outputs": [],
   "source": [
    "username = driver.find_element_by_id(\"username\")\n",
    "username.send_keys(\"Enter you LinkedIn username here\")\n",
    "password = driver.find_element_by_id(\"password\")\n",
    "password.send_keys(\"Enter you LinkedIn password here\")"
   ]
  },
  {
   "cell_type": "code",
   "execution_count": null,
   "metadata": {},
   "outputs": [],
   "source": [
    "login_button = driver.find_element_by_class_name(\"login__form_action_container \")\n",
    "login_button.click()"
   ]
  },
  {
   "cell_type": "code",
   "execution_count": null,
   "metadata": {},
   "outputs": [],
   "source": [
    "URL = 'https://www.linkedin.com/search/results/companies/?companyHqGeo=%5B%22102713980%22%5D&keywords=electronics%20store&origin=FACETED_SEARCH'\n",
    "driver.get(URL)"
   ]
  },
  {
   "cell_type": "code",
   "execution_count": null,
   "metadata": {},
   "outputs": [],
   "source": [
    "d= []\n",
    "name = driver.find_elements_by_class_name(\"reusable-search__result-container \")\n",
    "d.append(name)\n",
    "d"
   ]
  },
  {
   "cell_type": "code",
   "execution_count": null,
   "metadata": {},
   "outputs": [],
   "source": [
    "c = []\n",
    "for item in name:\n",
    "    c.append(item.find_element_by_class_name('app-aware-link').get_attribute('href'))\n",
    "print(len(c),c)   "
   ]
  },
  {
   "cell_type": "code",
   "execution_count": null,
   "metadata": {},
   "outputs": [],
   "source": [
    "for i in range(20): #20 is the number of tabs to traverse.So check the number accordingly\n",
    "\n",
    "    x = str(i+2)\n",
    "    link = URL + '&page=' + x\n",
    "    driver.get(link)\n",
    "    for j in range(100000000):\n",
    "        continue\n",
    "    name = driver.find_elements_by_class_name(\"reusable-search__result-container \")\n",
    "    d.append(name)\n",
    "    \n",
    "    for item in name:\n",
    "        c.append(item.find_element_by_class_name('app-aware-link').get_attribute('href'))\n",
    "print(len(c),c)    "
   ]
  },
  {
   "cell_type": "code",
   "execution_count": null,
   "metadata": {},
   "outputs": [],
   "source": [
    "for item in c[:5]:\n",
    "    driver.get(item)\n",
    "    try:\n",
    "        y = driver.find_element_by_class_name('mb3').text.split('\\n')\n",
    "    except Exception as e:\n",
    "        y = 'NDA'\n",
    "    try:\n",
    "        z = driver.find_element_by_class_name(\"org-top-card-primary-actions__inner\")\n",
    "        x = z.find_element_by_css_selector('a').get_attribute('href')\n",
    "    except Exception as e:\n",
    "        x = 'NDA'\n",
    "    try:\n",
    "        print(i, ' ', y[0], ' ', x,' ', item,' ', y[1], ' ', y[2], ' ', y[3], ' ',y[4])\n",
    "    except Exception as e:\n",
    "        continue"
   ]
  },
  {
   "cell_type": "code",
   "execution_count": null,
   "metadata": {},
   "outputs": [],
   "source": [
    "#csv_file = open('Cold_Chain_Logistics.csv', 'w', encoding='utf-8')\n",
    "#csv_writer = csv.writer(csv_file)\n",
    "#csv_writer.writerow(['S.No.', 'Name', 'Website','LinkedIn', 'A', 'B', 'C', 'D'])\n",
    "\n",
    "data = []\n",
    "i = 1\n",
    "for item in c:\n",
    "    driver.get(item)\n",
    "    try:\n",
    "        y = driver.find_element_by_class_name('mb3').text.split('\\n')\n",
    "    except Exception as e:\n",
    "        y = 'NDA'\n",
    "    try:\n",
    "        z = driver.find_element_by_class_name(\"org-top-card-primary-actions__inner\")\n",
    "        x = z.find_element_by_css_selector('a').get_attribute('href')\n",
    "    except Exception as e:\n",
    "        x = 'NDA'\n",
    "#    try:\n",
    "#        print(i, ' ', y[0], ' ', x,' ', item,' ', y[1], ' ', y[2], ' ', y[3], ' ',y[4])\n",
    "#    except Exception as e:\n",
    "#        continue\n",
    "    try:\n",
    "        data.append([i, y[0], x, item, y[1], y[2], y[3], y[4]])\n",
    "        i = i+1\n",
    "    except Exception as e:\n",
    "        continue\n",
    "#    csv_writer.writerow([i, y[0], x, item, y[1], y[2], y[3], y[4]])\n",
    "    "
   ]
  },
  {
   "cell_type": "code",
   "execution_count": null,
   "metadata": {},
   "outputs": [],
   "source": [
    "data"
   ]
  },
  {
   "cell_type": "code",
   "execution_count": null,
   "metadata": {},
   "outputs": [],
   "source": [
    "csv_file = open('data.csv', 'w', encoding='utf-8')\n",
    "csv_writer = csv.writer(csv_file)\n",
    "csv_writer.writerow(['S.No.', 'Name', 'Website','LinkedIn', 'A', 'B', 'C', 'D'])\n",
    "\n",
    "for i in range(len(data)):\n",
    "    csv_writer.writerow(data[i])"
   ]
  },
  {
   "cell_type": "code",
   "execution_count": null,
   "metadata": {},
   "outputs": [],
   "source": []
  }
 ],
 "metadata": {
  "kernelspec": {
   "display_name": "Python 3",
   "language": "python",
   "name": "python3"
  },
  "language_info": {
   "codemirror_mode": {
    "name": "ipython",
    "version": 3
   },
   "file_extension": ".py",
   "mimetype": "text/x-python",
   "name": "python",
   "nbconvert_exporter": "python",
   "pygments_lexer": "ipython3",
   "version": "3.8.5"
  }
 },
 "nbformat": 4,
 "nbformat_minor": 4
}
